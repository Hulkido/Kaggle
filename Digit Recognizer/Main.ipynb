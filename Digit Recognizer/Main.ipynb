{
  "nbformat": 4,
  "nbformat_minor": 0,
  "metadata": {
    "colab": {
      "name": "Main.ipynb",
      "provenance": []
    },
    "kernelspec": {
      "name": "python3",
      "display_name": "Python 3"
    }
  },
  "cells": [
    {
      "cell_type": "markdown",
      "metadata": {
        "id": "INygx9wqgJ7v",
        "colab_type": "text"
      },
      "source": [
        "\n",
        "\n",
        "**MOUNTING DRIVE**\n"
      ]
    },
    {
      "cell_type": "code",
      "metadata": {
        "id": "C25Pnuq5ftRF",
        "colab_type": "code",
        "colab": {}
      },
      "source": [
        "from google.colab import drive\n",
        "drive.mount('/content/drive')"
      ],
      "execution_count": 0,
      "outputs": []
    },
    {
      "cell_type": "markdown",
      "metadata": {
        "id": "xdYYpIovgkcY",
        "colab_type": "text"
      },
      "source": [
        "**CHANGING PATH TO DATA FOLDER**"
      ]
    },
    {
      "cell_type": "code",
      "metadata": {
        "id": "QlaiOFAlgHHj",
        "colab_type": "code",
        "colab": {
          "base_uri": "https://localhost:8080/",
          "height": 34
        },
        "outputId": "241254a3-b96e-4712-e273-294d02bd5ecf"
      },
      "source": [
        "cd \"/content/drive/My Drive/DL /digit-recognizer\""
      ],
      "execution_count": 2,
      "outputs": [
        {
          "output_type": "stream",
          "text": [
            "/content/drive/My Drive/DL /digit-recognizer\n"
          ],
          "name": "stdout"
        }
      ]
    },
    {
      "cell_type": "markdown",
      "metadata": {
        "id": "l_wQf5W3g2H8",
        "colab_type": "text"
      },
      "source": [
        "**IMPORTING USEFUL LIBRARIES**"
      ]
    },
    {
      "cell_type": "code",
      "metadata": {
        "id": "mnGiDqWtgicD",
        "colab_type": "code",
        "colab": {}
      },
      "source": [
        "import pandas as pd\n",
        "import os\n",
        "import keras\n",
        "import numpy as np"
      ],
      "execution_count": 0,
      "outputs": []
    },
    {
      "cell_type": "markdown",
      "metadata": {
        "id": "Wstjt4aChuVd",
        "colab_type": "text"
      },
      "source": [
        "**READING CSV TRAIN FILE**"
      ]
    },
    {
      "cell_type": "code",
      "metadata": {
        "id": "19kKhl4Xg0OP",
        "colab_type": "code",
        "colab": {}
      },
      "source": [
        "dataset=pd.read_csv(\"train.csv\",delimiter=',')\n",
        "dataset=dataset.sample(frac=1).reset_index(drop=True)\n",
        "data=dataset.values"
      ],
      "execution_count": 0,
      "outputs": []
    },
    {
      "cell_type": "markdown",
      "metadata": {
        "id": "GtB6Bws3iJOb",
        "colab_type": "text"
      },
      "source": [
        "**RANDOMLY SAMPLING FOR TRAIN AND TEST DATA**"
      ]
    },
    {
      "cell_type": "code",
      "metadata": {
        "id": "qq-8N_lWhNj8",
        "colab_type": "code",
        "colab": {}
      },
      "source": [
        "a=np.random.randint(42000,size=100)\n",
        "X=data[:,1:]/255             # normalisation step\n",
        "Y=data[:,0]\n",
        "Y = keras.utils.to_categorical(Y, num_classes = 10)       # finding one hot vectors for every class\n",
        "xtest=X[a,:]\n",
        "ytest=Y[a,:]\n",
        "X=np.delete(X,a,0)\n",
        "Y=np.delete(Y,a,0)"
      ],
      "execution_count": 0,
      "outputs": []
    },
    {
      "cell_type": "markdown",
      "metadata": {
        "id": "sgklHxEyjE2t",
        "colab_type": "text"
      },
      "source": [
        "**VISUALISING DATASET**"
      ]
    },
    {
      "cell_type": "code",
      "metadata": {
        "id": "1ibRCiByiStH",
        "colab_type": "code",
        "colab": {}
      },
      "source": [
        "from matplotlib.pyplot import imshow\n",
        "n=145\n",
        "a=X[n,:]\n",
        "#a=a.resize(28,28,1) canot resize array which share data with another array\n",
        "a=np.resize(a,[28,28])\n",
        "imshow(a)\n",
        "print(\"Label of image is \"+ str(np.argmax(Y[n])))"
      ],
      "execution_count": 0,
      "outputs": []
    },
    {
      "cell_type": "markdown",
      "metadata": {
        "id": "dJAFY1R_jqZ_",
        "colab_type": "text"
      },
      "source": [
        "**MODEL**"
      ]
    },
    {
      "cell_type": "code",
      "metadata": {
        "id": "owIQ1BYMjkxa",
        "colab_type": "code",
        "colab": {}
      },
      "source": [
        "from keras.models import Sequential\n",
        "from keras.layers import Dense"
      ],
      "execution_count": 0,
      "outputs": []
    },
    {
      "cell_type": "markdown",
      "metadata": {
        "id": "lpuZbOWwkbPW",
        "colab_type": "text"
      },
      "source": [
        "This model is not formed to compete but to learn."
      ]
    },
    {
      "cell_type": "code",
      "metadata": {
        "id": "lOpdkJrci9HJ",
        "colab_type": "code",
        "colab": {}
      },
      "source": [
        "model=Sequential()\n",
        "model.add(Dense(10,activation=\"softmax\"))"
      ],
      "execution_count": 0,
      "outputs": []
    },
    {
      "cell_type": "markdown",
      "metadata": {
        "id": "_4tFHNZJk1rE",
        "colab_type": "text"
      },
      "source": [
        "**COMPILING**"
      ]
    },
    {
      "cell_type": "code",
      "metadata": {
        "id": "aHtDGX0Rj2li",
        "colab_type": "code",
        "colab": {}
      },
      "source": [
        "model.compile(optimizer=\"adam\",loss=\"binary_crossentropy\",metrics=[\"accuracy\"])"
      ],
      "execution_count": 0,
      "outputs": []
    },
    {
      "cell_type": "markdown",
      "metadata": {
        "id": "PGgjUG25lAPo",
        "colab_type": "text"
      },
      "source": [
        "**TRAINING**"
      ]
    },
    {
      "cell_type": "code",
      "metadata": {
        "id": "Za7_1BPrj3Ul",
        "colab_type": "code",
        "colab": {}
      },
      "source": [
        "model.fit(X,Y,epochs=20)"
      ],
      "execution_count": 0,
      "outputs": []
    },
    {
      "cell_type": "markdown",
      "metadata": {
        "id": "dYlBCXPDlCdQ",
        "colab_type": "text"
      },
      "source": [
        "**TESTING**"
      ]
    },
    {
      "cell_type": "code",
      "metadata": {
        "id": "9asr2beyj6Eq",
        "colab_type": "code",
        "colab": {}
      },
      "source": [
        "z=np.array([xtest[20,:]])"
      ],
      "execution_count": 0,
      "outputs": []
    },
    {
      "cell_type": "code",
      "metadata": {
        "id": "TqQbWbvQkHnt",
        "colab_type": "code",
        "colab": {}
      },
      "source": [
        "print(np.argmax(model.predict(z)))\n",
        "imshow(z.reshape([28,28]))"
      ],
      "execution_count": 0,
      "outputs": []
    },
    {
      "cell_type": "markdown",
      "metadata": {
        "id": "mABpv4eplI8g",
        "colab_type": "text"
      },
      "source": [
        "As per the result above our model is working great."
      ]
    },
    {
      "cell_type": "markdown",
      "metadata": {
        "id": "FBe7NTHHlROd",
        "colab_type": "text"
      },
      "source": [
        "**IMPORTING TEST FILE**"
      ]
    },
    {
      "cell_type": "code",
      "metadata": {
        "id": "j3wTFToMkJU4",
        "colab_type": "code",
        "colab": {}
      },
      "source": [
        "test=pd.read_csv(\"test.csv\").values"
      ],
      "execution_count": 0,
      "outputs": []
    },
    {
      "cell_type": "markdown",
      "metadata": {
        "id": "ngfVoqMNlYAf",
        "colab_type": "text"
      },
      "source": [
        "**MAKING PREDICTION**"
      ]
    },
    {
      "cell_type": "code",
      "metadata": {
        "id": "X9jaSi0CkLvO",
        "colab_type": "code",
        "colab": {}
      },
      "source": [
        "prediction=np.argmax(model.predict(test),axis=1)"
      ],
      "execution_count": 0,
      "outputs": []
    },
    {
      "cell_type": "markdown",
      "metadata": {
        "id": "HSqJ2hOur8c2",
        "colab_type": "text"
      },
      "source": [
        "**PROCESSING FOR SUBMISSON**"
      ]
    },
    {
      "cell_type": "code",
      "metadata": {
        "id": "uN15iNzRkNb3",
        "colab_type": "code",
        "colab": {}
      },
      "source": [
        "results=pd.Series(prediction,name=\"Label\")"
      ],
      "execution_count": 0,
      "outputs": []
    },
    {
      "cell_type": "code",
      "metadata": {
        "id": "ubZImI13kPNx",
        "colab_type": "code",
        "colab": {}
      },
      "source": [
        "ImageId=pd.Series(range(1,28001),name=\"ImageId\")"
      ],
      "execution_count": 0,
      "outputs": []
    },
    {
      "cell_type": "code",
      "metadata": {
        "id": "UjmqBfXEkR2T",
        "colab_type": "code",
        "colab": {}
      },
      "source": [
        "output=pd.concat([ImageId,results],axis=1)"
      ],
      "execution_count": 0,
      "outputs": []
    },
    {
      "cell_type": "code",
      "metadata": {
        "id": "BWE9JVa5kT5j",
        "colab_type": "code",
        "colab": {}
      },
      "source": [
        "print(output)"
      ],
      "execution_count": 0,
      "outputs": []
    },
    {
      "cell_type": "markdown",
      "metadata": {
        "id": "LzB7A5tksELI",
        "colab_type": "text"
      },
      "source": [
        "**SAVING**"
      ]
    },
    {
      "cell_type": "code",
      "metadata": {
        "id": "S1cjUssqkV3u",
        "colab_type": "code",
        "colab": {}
      },
      "source": [
        "output.to_csv(\"Predictions.csv\",index=False)"
      ],
      "execution_count": 0,
      "outputs": []
    }
  ]
}